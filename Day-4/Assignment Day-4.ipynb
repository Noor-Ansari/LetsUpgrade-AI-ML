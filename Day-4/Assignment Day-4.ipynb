{
 "cells": [
  {
   "cell_type": "markdown",
   "metadata": {},
   "source": [
    "# Assignment Day-4"
   ]
  },
  {
   "cell_type": "markdown",
   "metadata": {},
   "source": [
    "## Question-1"
   ]
  },
  {
   "cell_type": "markdown",
   "metadata": {},
   "source": [
    "__*Research on whether addition, subtraction, multiplication, division, floor division, and modulo operations\n",
    "be performed on complex numbers. Based on your study, implement a Python program to demonstrate\n",
    "these operations__"
   ]
  },
  {
   "cell_type": "code",
   "execution_count": 3,
   "metadata": {},
   "outputs": [
    {
     "name": "stdout",
     "output_type": "stream",
     "text": [
      "addition of two complex numbers is =  (27+16j)\n",
      "substraction of two complex numbers is =  (3+2j)\n",
      "multiplication of two complex numbers is =  (117+213j)\n",
      "divison of two complex number is =  (1+0j)\n"
     ]
    }
   ],
   "source": [
    "# consider two complex numbers\n",
    "\n",
    "com_num1 = 12+7j\n",
    "\n",
    "com_num2 = 15+9j\n",
    "\n",
    "# It is possible to perform addition on complex numbers\n",
    "\n",
    "addition = com_num1 + com_num2 \n",
    "print(\"addition of two complex numbers is = \",addition)\n",
    "\n",
    "# It is possible to perform subtraction on complex numbers\n",
    "\n",
    "substraction = com_num2 - com_num1 \n",
    "print(\"substraction of two complex numbers is = \",substraction)\n",
    "\n",
    "# perform multiplication on complex numbers (The complex numbers are multiplied as bionomial numbers \n",
    "# and each element of the first number multiplies all elements of the second complex number)\n",
    "\n",
    "multiplication = com_num1 * com_num2 \n",
    "print(\"multiplication of two complex numbers is = \",multiplication)\n",
    "\n",
    "# It is possible to perform the divison on complex numbers\n",
    "\n",
    "division = com_num2/com_num2\n",
    "print(\"divison of two complex number is = \",division)\n",
    "\n",
    "# This code will throw error because floor division can not be performed on complex numbers\n",
    "\n",
    "# floor_div = com_num2//com_num1\n",
    "# print(floor_divor_div)\n",
    "\n",
    "# This code will throw error because modulo can not be performed on complex numbers\n",
    "\n",
    "# modulo = com_num2%com_num1\n",
    "# print(modulo)\n",
    "\n"
   ]
  },
  {
   "cell_type": "markdown",
   "metadata": {},
   "source": [
    "## Question-2"
   ]
  },
  {
   "cell_type": "markdown",
   "metadata": {},
   "source": [
    "__*Research on range() functions and its parameters. Create a markdown cell and write in your own words\n",
    "(no copy-paste from google please) what you understand about it. Implement a small program of your\n",
    "choice on the same.__"
   ]
  },
  {
   "cell_type": "markdown",
   "metadata": {},
   "source": [
    "__Ans:- The range() function is a built-in function of python which is used to create a sequential list of integers__\n",
    "\n",
    "__It is typically used with for loop to go through sequential steps__\n",
    "\n",
    "__It takes three parameters (start,stop,step), the start parameter defines the number from where the sequence will start, stop parameter defines the number till which the sequence go and the step parameter defines the stepsize which will be used while creating the sequence__\n",
    "\n",
    "__If only one parameter is given (i.e. range(10)) it will return a sequence of numbers from 0 till the given number-1 (in this case 10-1 )__\n",
    "\n",
    "__If two parameters are given (i.e. range(1,10)) it will return a sequence of numbers from first number (in this case 1) till second number (in this case 10-1)__\n",
    "\n",
    "__If three parameters are given (i.e. range(1,10,2)) it will return a sequence of numbers from first number (in this case 1) till second number (in this case 10-1) on the stepsize given by the third parameter (in this case 2)__\n",
    "\n"
   ]
  },
  {
   "cell_type": "code",
   "execution_count": 7,
   "metadata": {
    "scrolled": false
   },
   "outputs": [
    {
     "name": "stdout",
     "output_type": "stream",
     "text": [
      "2\n",
      "4\n",
      "6\n",
      "8\n",
      "10\n",
      "12\n",
      "14\n",
      "16\n",
      "18\n",
      "20\n"
     ]
    }
   ],
   "source": [
    "# It is program which will print the table of 2 by using the for loop with range function\n",
    "\n",
    "for x in range(2,21,2):\n",
    "    print(x)\n",
    "    "
   ]
  },
  {
   "cell_type": "markdown",
   "metadata": {},
   "source": [
    "## Question-3 "
   ]
  },
  {
   "cell_type": "markdown",
   "metadata": {},
   "source": [
    "__*Consider two numbers. Perform their subtraction and if the result of subtraction is greater than 25, print\n",
    "their multiplication result else print their division result__"
   ]
  },
  {
   "cell_type": "code",
   "execution_count": 9,
   "metadata": {},
   "outputs": [
    {
     "name": "stdout",
     "output_type": "stream",
     "text": [
      "1.3333333333333333\n"
     ]
    }
   ],
   "source": [
    "# Consider any two integers for the program\n",
    "\n",
    "num1 = 45\n",
    "\n",
    "num2 = 60\n",
    "\n",
    "subtract = num2-num1\n",
    "\n",
    "# This if clause will check that whether the result of subtraction is greater than 25 if yes then print the multiplication of the numbers\n",
    "# if the subtraction of the numbers is less than 25 print the division of the numbers\n",
    "\n",
    "\n",
    "if subtract>25:\n",
    "    multi = num1*num2\n",
    "    print(multi)\n",
    "else:\n",
    "    div = num2/num1\n",
    "    print(div)\n",
    "    \n"
   ]
  },
  {
   "cell_type": "markdown",
   "metadata": {},
   "source": [
    "## Question-4"
   ]
  },
  {
   "cell_type": "markdown",
   "metadata": {},
   "source": [
    "__*Consider a list of 10 elements of integer values. If the number in the list is divisible by 2, print the result as\n",
    "\"square of that number minus 2\"__"
   ]
  },
  {
   "cell_type": "code",
   "execution_count": 14,
   "metadata": {},
   "outputs": [
    {
     "name": "stdout",
     "output_type": "stream",
     "text": [
      "254\n",
      "62\n",
      "1154\n",
      "34\n",
      "142\n"
     ]
    }
   ],
   "source": [
    "# First create a list of 10 integers for the program\n",
    "\n",
    "ls1 = [3,16,8,5,34,1,6,12,3,9]\n",
    "\n",
    "# the for loop goes through all the elements and if clause checks whether they are divisible by 2, \n",
    "#if yes print the square of that number minus 2\n",
    "\n",
    "\n",
    "for x in ls1:\n",
    "    if x%2==0:\n",
    "        result = (x*x)-2\n",
    "        print(result)\n",
    "\n",
    "\n"
   ]
  },
  {
   "cell_type": "markdown",
   "metadata": {},
   "source": [
    "## Question-5"
   ]
  },
  {
   "cell_type": "markdown",
   "metadata": {},
   "source": [
    "__*Consider a list of 10 elements. Print all the elements in the list which are greater than 7 when that number\n",
    "is divided 2.__"
   ]
  },
  {
   "cell_type": "code",
   "execution_count": 8,
   "metadata": {},
   "outputs": [
    {
     "name": "stdout",
     "output_type": "stream",
     "text": [
      "16\n",
      "86\n",
      "56\n",
      "34\n",
      "94\n"
     ]
    }
   ],
   "source": [
    "# Create a list of 10 integers\n",
    "\n",
    "ls2 = [3,16,86,56,34,1,6,67,39,94]\n",
    "\n",
    "# The for loop first go through all the elements and if clause checks that which one is greater than 7 and also is divided by 2\n",
    "\n",
    "for x in ls2:\n",
    "    if x>7 and x%2==0:\n",
    "        print(x)\n",
    "        \n",
    "    \n",
    "\n"
   ]
  }
 ],
 "metadata": {
  "kernelspec": {
   "display_name": "Python 3",
   "language": "python",
   "name": "python3"
  },
  "language_info": {
   "codemirror_mode": {
    "name": "ipython",
    "version": 3
   },
   "file_extension": ".py",
   "mimetype": "text/x-python",
   "name": "python",
   "nbconvert_exporter": "python",
   "pygments_lexer": "ipython3",
   "version": "3.8.3"
  },
  "toc": {
   "base_numbering": 1,
   "nav_menu": {},
   "number_sections": true,
   "sideBar": true,
   "skip_h1_title": false,
   "title_cell": "Table of Contents",
   "title_sidebar": "Contents",
   "toc_cell": false,
   "toc_position": {},
   "toc_section_display": true,
   "toc_window_display": false
  }
 },
 "nbformat": 4,
 "nbformat_minor": 4
}
