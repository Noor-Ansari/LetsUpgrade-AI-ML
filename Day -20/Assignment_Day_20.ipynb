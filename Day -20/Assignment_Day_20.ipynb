{
  "nbformat": 4,
  "nbformat_minor": 0,
  "metadata": {
    "colab": {
      "name": "Assignment Day-20.ipynb",
      "provenance": []
    },
    "kernelspec": {
      "name": "python3",
      "display_name": "Python 3"
    }
  },
  "cells": [
    {
      "cell_type": "markdown",
      "metadata": {
        "id": "B1y1r07MrwIc"
      },
      "source": [
        "# Assignment Day - 20"
      ]
    },
    {
      "cell_type": "markdown",
      "metadata": {
        "id": "OfUtShCNsEP6"
      },
      "source": [
        "# Question :\n",
        "### Three archers – Pat, Jack, and Alex are participating in an archery contest. They are shooting at targets with 10 evenly spaced concentric rings. The rings have score values from 1 through 10 assigned to them, with 10 being the highest. Each participant shoots 6 arrow, scoring the following points:  \n",
        " \n",
        "Pat – 5, 4, 4, 3, 9, 4 Jack – 4, 8, 7, 5, 1, 5 Alex – 9, 9, 8, 10, 4, 10 \n",
        " \n",
        "### Based on the above results we would like to know who the best archer is. In other words our null hypothesis is that the means of all populations are equal. "
      ]
    },
    {
      "cell_type": "code",
      "metadata": {
        "id": "zAw8dg3nsP0J",
        "outputId": "7016d3c9-817f-499c-9163-19334c070d80",
        "colab": {
          "base_uri": "https://localhost:8080/",
          "height": 34
        }
      },
      "source": [
        "import pandas as pd\n",
        "\n",
        "pat = [5, 4, 4, 3, 9, 4]\n",
        "jack = [4, 8, 7, 5, 1, 5]\n",
        "alex = [9, 9, 8, 10, 4, 10]\n",
        "\n",
        "\n",
        "total_score = pat+jack+alex\n",
        "total_score"
      ],
      "execution_count": 5,
      "outputs": [
        {
          "output_type": "execute_result",
          "data": {
            "text/plain": [
              "[5, 4, 4, 3, 9, 4, 4, 8, 7, 5, 1, 5, 9, 9, 8, 10, 4, 10]"
            ]
          },
          "metadata": {
            "tags": []
          },
          "execution_count": 5
        }
      ]
    },
    {
      "cell_type": "code",
      "metadata": {
        "id": "DM3GvhnuuMPA"
      },
      "source": [
        "names = ([\"pat\"]*len(pat) + [\"jack\"]*len(jack) + [\"alex\"]*len(alex))\n"
      ],
      "execution_count": 4,
      "outputs": []
    },
    {
      "cell_type": "code",
      "metadata": {
        "id": "Wpx-6UtmvxRM",
        "outputId": "2c01e6e7-f3f6-4192-8bd7-2adc059476e2",
        "colab": {
          "base_uri": "https://localhost:8080/",
          "height": 607
        }
      },
      "source": [
        "data = pd.DataFrame({\"Names\":names, \"Score\":total_score})\n",
        "data"
      ],
      "execution_count": 8,
      "outputs": [
        {
          "output_type": "execute_result",
          "data": {
            "text/html": [
              "<div>\n",
              "<style scoped>\n",
              "    .dataframe tbody tr th:only-of-type {\n",
              "        vertical-align: middle;\n",
              "    }\n",
              "\n",
              "    .dataframe tbody tr th {\n",
              "        vertical-align: top;\n",
              "    }\n",
              "\n",
              "    .dataframe thead th {\n",
              "        text-align: right;\n",
              "    }\n",
              "</style>\n",
              "<table border=\"1\" class=\"dataframe\">\n",
              "  <thead>\n",
              "    <tr style=\"text-align: right;\">\n",
              "      <th></th>\n",
              "      <th>Names</th>\n",
              "      <th>Score</th>\n",
              "    </tr>\n",
              "  </thead>\n",
              "  <tbody>\n",
              "    <tr>\n",
              "      <th>0</th>\n",
              "      <td>pat</td>\n",
              "      <td>5</td>\n",
              "    </tr>\n",
              "    <tr>\n",
              "      <th>1</th>\n",
              "      <td>pat</td>\n",
              "      <td>4</td>\n",
              "    </tr>\n",
              "    <tr>\n",
              "      <th>2</th>\n",
              "      <td>pat</td>\n",
              "      <td>4</td>\n",
              "    </tr>\n",
              "    <tr>\n",
              "      <th>3</th>\n",
              "      <td>pat</td>\n",
              "      <td>3</td>\n",
              "    </tr>\n",
              "    <tr>\n",
              "      <th>4</th>\n",
              "      <td>pat</td>\n",
              "      <td>9</td>\n",
              "    </tr>\n",
              "    <tr>\n",
              "      <th>5</th>\n",
              "      <td>pat</td>\n",
              "      <td>4</td>\n",
              "    </tr>\n",
              "    <tr>\n",
              "      <th>6</th>\n",
              "      <td>jack</td>\n",
              "      <td>4</td>\n",
              "    </tr>\n",
              "    <tr>\n",
              "      <th>7</th>\n",
              "      <td>jack</td>\n",
              "      <td>8</td>\n",
              "    </tr>\n",
              "    <tr>\n",
              "      <th>8</th>\n",
              "      <td>jack</td>\n",
              "      <td>7</td>\n",
              "    </tr>\n",
              "    <tr>\n",
              "      <th>9</th>\n",
              "      <td>jack</td>\n",
              "      <td>5</td>\n",
              "    </tr>\n",
              "    <tr>\n",
              "      <th>10</th>\n",
              "      <td>jack</td>\n",
              "      <td>1</td>\n",
              "    </tr>\n",
              "    <tr>\n",
              "      <th>11</th>\n",
              "      <td>jack</td>\n",
              "      <td>5</td>\n",
              "    </tr>\n",
              "    <tr>\n",
              "      <th>12</th>\n",
              "      <td>alex</td>\n",
              "      <td>9</td>\n",
              "    </tr>\n",
              "    <tr>\n",
              "      <th>13</th>\n",
              "      <td>alex</td>\n",
              "      <td>9</td>\n",
              "    </tr>\n",
              "    <tr>\n",
              "      <th>14</th>\n",
              "      <td>alex</td>\n",
              "      <td>8</td>\n",
              "    </tr>\n",
              "    <tr>\n",
              "      <th>15</th>\n",
              "      <td>alex</td>\n",
              "      <td>10</td>\n",
              "    </tr>\n",
              "    <tr>\n",
              "      <th>16</th>\n",
              "      <td>alex</td>\n",
              "      <td>4</td>\n",
              "    </tr>\n",
              "    <tr>\n",
              "      <th>17</th>\n",
              "      <td>alex</td>\n",
              "      <td>10</td>\n",
              "    </tr>\n",
              "  </tbody>\n",
              "</table>\n",
              "</div>"
            ],
            "text/plain": [
              "   Names  Score\n",
              "0    pat      5\n",
              "1    pat      4\n",
              "2    pat      4\n",
              "3    pat      3\n",
              "4    pat      9\n",
              "5    pat      4\n",
              "6   jack      4\n",
              "7   jack      8\n",
              "8   jack      7\n",
              "9   jack      5\n",
              "10  jack      1\n",
              "11  jack      5\n",
              "12  alex      9\n",
              "13  alex      9\n",
              "14  alex      8\n",
              "15  alex     10\n",
              "16  alex      4\n",
              "17  alex     10"
            ]
          },
          "metadata": {
            "tags": []
          },
          "execution_count": 8
        }
      ]
    },
    {
      "cell_type": "code",
      "metadata": {
        "id": "1aPxBpExwSfK",
        "outputId": "08f8484e-7115-432a-f429-b91135f26fec",
        "colab": {
          "base_uri": "https://localhost:8080/",
          "height": 34
        }
      },
      "source": [
        "full_score_mean = data[\"Score\"].mean()\n",
        "full_score_mean"
      ],
      "execution_count": 9,
      "outputs": [
        {
          "output_type": "execute_result",
          "data": {
            "text/plain": [
              "6.055555555555555"
            ]
          },
          "metadata": {
            "tags": []
          },
          "execution_count": 9
        }
      ]
    },
    {
      "cell_type": "code",
      "metadata": {
        "id": "uY-OdJ3jwiq9",
        "outputId": "b0b75f7e-ac09-4255-da53-07968e91a9ee",
        "colab": {
          "base_uri": "https://localhost:8080/",
          "height": 34
        }
      },
      "source": [
        "pat_sr = pd.Series(pat)\n",
        "pat_mean = pat_sr.mean()\n",
        "pad_sum = sum((pat_sr-pat_mean)**2)\n",
        "pad_sum"
      ],
      "execution_count": 14,
      "outputs": [
        {
          "output_type": "execute_result",
          "data": {
            "text/plain": [
              "22.833333333333332"
            ]
          },
          "metadata": {
            "tags": []
          },
          "execution_count": 14
        }
      ]
    },
    {
      "cell_type": "code",
      "metadata": {
        "id": "Zsx1CmtM0_wS",
        "outputId": "df3b21f2-157b-4b4c-b94a-309da7ed3517",
        "colab": {
          "base_uri": "https://localhost:8080/",
          "height": 34
        }
      },
      "source": [
        "jack_sr = pd.Series(jack)\n",
        "jack_mean = jack_sr.mean()\n",
        "jack_sum = sum((jack_sr-jack_mean)**2)\n",
        "jack_sum"
      ],
      "execution_count": 15,
      "outputs": [
        {
          "output_type": "execute_result",
          "data": {
            "text/plain": [
              "30.0"
            ]
          },
          "metadata": {
            "tags": []
          },
          "execution_count": 15
        }
      ]
    },
    {
      "cell_type": "code",
      "metadata": {
        "id": "aR05-yob1BzY",
        "outputId": "19fde202-9117-46a2-d91e-0ba4363a1ce7",
        "colab": {
          "base_uri": "https://localhost:8080/",
          "height": 34
        }
      },
      "source": [
        "alex_sr = pd.Series(alex)\n",
        "alex_mean = alex_sr.mean()\n",
        "alex_sum = sum((alex_sr-alex_mean)**2)\n",
        "alex_sum"
      ],
      "execution_count": 16,
      "outputs": [
        {
          "output_type": "execute_result",
          "data": {
            "text/plain": [
              "25.333333333333332"
            ]
          },
          "metadata": {
            "tags": []
          },
          "execution_count": 16
        }
      ]
    },
    {
      "cell_type": "code",
      "metadata": {
        "id": "QCQU-QwT2BXI",
        "outputId": "e543aff4-e788-4500-b39b-da609a653cd8",
        "colab": {
          "base_uri": "https://localhost:8080/",
          "height": 34
        }
      },
      "source": [
        "SSW = pad_sum + jack_sum + alex_sum\n",
        "SSW"
      ],
      "execution_count": 18,
      "outputs": [
        {
          "output_type": "execute_result",
          "data": {
            "text/plain": [
              "78.16666666666666"
            ]
          },
          "metadata": {
            "tags": []
          },
          "execution_count": 18
        }
      ]
    },
    {
      "cell_type": "code",
      "metadata": {
        "id": "_UA4NaaP2aJs",
        "outputId": "85de2eda-2046-45a6-93db-003e7441d335",
        "colab": {
          "base_uri": "https://localhost:8080/",
          "height": 34
        }
      },
      "source": [
        "score_sr = pd.Series(data[\"Score\"])\n",
        "score_mean = score_sr.mean()\n",
        "score_sum = sum((score_sr - score_mean)**2)\n",
        "score_sum"
      ],
      "execution_count": 20,
      "outputs": [
        {
          "output_type": "execute_result",
          "data": {
            "text/plain": [
              "124.94444444444446"
            ]
          },
          "metadata": {
            "tags": []
          },
          "execution_count": 20
        }
      ]
    },
    {
      "cell_type": "markdown",
      "metadata": {
        "id": "Ne55Cm1d4oQb"
      },
      "source": [
        "## As we have calculated above SSW which is some of square within groups = 78.16666666666666\n",
        "\n",
        "## And score_sum which is total sum of squares = 124.94444444444446\n",
        "\n",
        "## We can easily calculate sum of squares between groups = Total sum of square - SSW"
      ]
    },
    {
      "cell_type": "code",
      "metadata": {
        "id": "VFOSaKzE51x-",
        "outputId": "1471520a-4291-4677-b624-a17af67c4cfe",
        "colab": {
          "base_uri": "https://localhost:8080/",
          "height": 34
        }
      },
      "source": [
        "SSB = score_sum - SSW\n",
        "SSB"
      ],
      "execution_count": 22,
      "outputs": [
        {
          "output_type": "execute_result",
          "data": {
            "text/plain": [
              "46.7777777777778"
            ]
          },
          "metadata": {
            "tags": []
          },
          "execution_count": 22
        }
      ]
    },
    {
      "cell_type": "code",
      "metadata": {
        "id": "jaOVT1_S6aOo",
        "outputId": "50f614a4-0a25-4606-a28a-828f03e6c951",
        "colab": {
          "base_uri": "https://localhost:8080/",
          "height": 34
        }
      },
      "source": [
        "# Here we will divide SSB by degree of freedom \n",
        "# since we have 3 samples so it's degree of freedom will be 3-1 =2\n",
        "\n",
        "result1 = SSB/2\n",
        "result1"
      ],
      "execution_count": 23,
      "outputs": [
        {
          "output_type": "execute_result",
          "data": {
            "text/plain": [
              "23.3888888888889"
            ]
          },
          "metadata": {
            "tags": []
          },
          "execution_count": 23
        }
      ]
    },
    {
      "cell_type": "code",
      "metadata": {
        "id": "HCFw-PVI7HMe",
        "outputId": "59b9c16d-08fe-4d28-c5a4-bbd0f5bf7ac6",
        "colab": {
          "base_uri": "https://localhost:8080/",
          "height": 34
        }
      },
      "source": [
        "# Here we will divide SSw by degree of freedom \n",
        "# since we have 18 observations and 3 groups so degree of freedom will be 18 - 3 =15\n",
        "\n",
        "result2 = SSW/15\n",
        "result2"
      ],
      "execution_count": 25,
      "outputs": [
        {
          "output_type": "execute_result",
          "data": {
            "text/plain": [
              "5.21111111111111"
            ]
          },
          "metadata": {
            "tags": []
          },
          "execution_count": 25
        }
      ]
    },
    {
      "cell_type": "code",
      "metadata": {
        "id": "-O645_aI82VF",
        "outputId": "c4de482e-2e26-44ce-c305-3fe510033120",
        "colab": {
          "base_uri": "https://localhost:8080/",
          "height": 34
        }
      },
      "source": [
        "F = result1/result2\n",
        "F"
      ],
      "execution_count": 26,
      "outputs": [
        {
          "output_type": "execute_result",
          "data": {
            "text/plain": [
              "4.488272921108745"
            ]
          },
          "metadata": {
            "tags": []
          },
          "execution_count": 26
        }
      ]
    },
    {
      "cell_type": "markdown",
      "metadata": {
        "id": "mgcoEw0eC_Zu"
      },
      "source": [
        "## Above as we can see we have manually found the F statistic using anove test\n",
        "\n",
        "## So Now we want to check that whether our result is coreect\n",
        "\n",
        "## We will use scipy module to find the f statistic "
      ]
    },
    {
      "cell_type": "code",
      "metadata": {
        "id": "aWMQ3aJSAEyD",
        "outputId": "437df61a-d854-46c8-dda1-047991a8e7f9",
        "colab": {
          "base_uri": "https://localhost:8080/",
          "height": 51
        }
      },
      "source": [
        "import scipy\n",
        "from scipy import stats\n",
        "\n",
        "f, p= stats.f_oneway(data[data['Names'] == 'pat'].Score,\n",
        "                      data[data['Names'] == 'jack'].Score,\n",
        "                      data[data['Names'] == 'alex'].Score)\n",
        "print(f)\n",
        "print(p)"
      ],
      "execution_count": 37,
      "outputs": [
        {
          "output_type": "stream",
          "text": [
            "4.4882729211087415\n",
            "0.029667763955533364\n"
          ],
          "name": "stdout"
        }
      ]
    },
    {
      "cell_type": "markdown",
      "metadata": {
        "id": "qZ0s41orETC-"
      },
      "source": [
        "## As above you can see our result is correct\n",
        "\n",
        "## Now find the critical value to determine whether to reject null hypotheses\n",
        "\n"
      ]
    },
    {
      "cell_type": "code",
      "metadata": {
        "id": "mkuE5OeyCiHu",
        "outputId": "00040726-79ea-4b76-843b-0c94b920b35b",
        "colab": {
          "base_uri": "https://localhost:8080/",
          "height": 34
        }
      },
      "source": [
        "critical_value = scipy.stats.f.ppf(q=1-0.05, dfn=2, dfd=15)"
      ],
      "execution_count": 34,
      "outputs": [
        {
          "output_type": "execute_result",
          "data": {
            "text/plain": [
              "3.6823203436732412"
            ]
          },
          "metadata": {
            "tags": []
          },
          "execution_count": 34
        }
      ]
    },
    {
      "cell_type": "markdown",
      "metadata": {
        "id": "sQNfoNhlE6n4"
      },
      "source": [
        "## Our critical value is lesser than F value and p value is less that 0.05\n",
        "\n",
        "## So we can reject the null hypotheses which was that means of all population are equal "
      ]
    },
    {
      "cell_type": "markdown",
      "metadata": {
        "id": "iBh1ZlR0Gphq"
      },
      "source": [
        "## Now the second part of question who is the best archer?\n",
        "\n",
        "## We will plot the mean of score of each player"
      ]
    },
    {
      "cell_type": "code",
      "metadata": {
        "id": "APQg_9k4HgSl",
        "outputId": "0b63e144-7886-493b-8c51-3dc661fcd3e5",
        "colab": {
          "base_uri": "https://localhost:8080/",
          "height": 282
        }
      },
      "source": [
        "import seaborn as sns\n",
        "\n",
        "sns.barplot(x = [\"Pat\", \"Jack\", \"Alex\"], y=[pat_mean, jack_mean, alex_mean])"
      ],
      "execution_count": 39,
      "outputs": [
        {
          "output_type": "execute_result",
          "data": {
            "text/plain": [
              "<matplotlib.axes._subplots.AxesSubplot at 0x7f5616806e10>"
            ]
          },
          "metadata": {
            "tags": []
          },
          "execution_count": 39
        },
        {
          "output_type": "display_data",
          "data": {
            "image/png": "[encoded data removed]",
            "text/plain": [
              "<Figure size 432x288 with 1 Axes>"
            ]
          },
          "metadata": {
            "tags": [],
            "needs_background": "light"
          }
        }
      ]
    },
    {
      "cell_type": "markdown",
      "metadata": {
        "id": "24qq067yIDhK"
      },
      "source": [
        "# By observing the above result we can say that Alex is the best player because his average score is greater that jack and pat."
      ]
    }
  ]
}