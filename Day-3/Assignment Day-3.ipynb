{
 "cells": [
  {
   "cell_type": "markdown",
   "metadata": {},
   "source": [
    "# Assignment Day-3"
   ]
  },
  {
   "cell_type": "markdown",
   "metadata": {},
   "source": [
    "## Question 1:"
   ]
  },
  {
   "cell_type": "markdown",
   "metadata": {},
   "source": [
    "__*Write a program to subtract two complex numbers in Python__"
   ]
  },
  {
   "cell_type": "code",
   "execution_count": 2,
   "metadata": {},
   "outputs": [
    {
     "name": "stdout",
     "output_type": "stream",
     "text": [
      "(9+2j)\n"
     ]
    }
   ],
   "source": [
    "first_num = 2+6j\n",
    "\n",
    "second_num = 11+8j\n",
    "\n",
    "subtraction = (second_num - first_num)\n",
    "\n",
    "print(subtraction)\n",
    "\n"
   ]
  },
  {
   "cell_type": "markdown",
   "metadata": {},
   "source": [
    "## Question 2:"
   ]
  },
  {
   "cell_type": "markdown",
   "metadata": {},
   "source": [
    "__*Write a program to find the fourth root of a number__"
   ]
  },
  {
   "cell_type": "code",
   "execution_count": 12,
   "metadata": {},
   "outputs": [
    {
     "name": "stdout",
     "output_type": "stream",
     "text": [
      "4.0\n"
     ]
    }
   ],
   "source": [
    "num = 256\n",
    "\n",
    "root = num**(1/4)\n",
    "\n",
    "print(root)\n"
   ]
  },
  {
   "cell_type": "markdown",
   "metadata": {},
   "source": [
    "## Question 3:\n",
    "\n"
   ]
  },
  {
   "cell_type": "markdown",
   "metadata": {},
   "source": [
    "__*Write a program to swap two numbers in Python with the help of a temporary variable.__"
   ]
  },
  {
   "cell_type": "code",
   "execution_count": 14,
   "metadata": {},
   "outputs": [
    {
     "name": "stdout",
     "output_type": "stream",
     "text": [
      "Before Swapping \n",
      " num1 = 24\n",
      " num2 = 48\n",
      " After Swapping\n",
      " num1 =  48 \n",
      " num2 =  24\n"
     ]
    }
   ],
   "source": [
    "num1 = 24\n",
    "\n",
    "num2 = 48\n",
    "\n",
    "temp_num = 0\n",
    "\n",
    "temp_num = num2\n",
    "\n",
    "num2 = num1\n",
    "\n",
    "num1 = temp_num\n",
    "\n",
    "print(\"Before Swapping \\n num1 = 24\\n num2 = 48\\n After Swapping\\n num1 = \",num1 , \"\\n num2 = \",num2)"
   ]
  },
  {
   "cell_type": "markdown",
   "metadata": {},
   "source": [
    "## Question 4:"
   ]
  },
  {
   "cell_type": "markdown",
   "metadata": {},
   "source": [
    "__*Write a program to swap two numbers in Python without using a temporary variable__"
   ]
  },
  {
   "cell_type": "code",
   "execution_count": 17,
   "metadata": {},
   "outputs": [
    {
     "name": "stdout",
     "output_type": "stream",
     "text": [
      "num1 =  20 \n",
      "num2 =  10\n"
     ]
    }
   ],
   "source": [
    "num1 = 10\n",
    "\n",
    "num2 = 20\n",
    "\n",
    "num1,num2 = num2,num1\n",
    "\n",
    "print(\"num1 = \",num1,\"\\nnum2 = \",num2)"
   ]
  },
  {
   "cell_type": "markdown",
   "metadata": {},
   "source": [
    "## Question 5:"
   ]
  },
  {
   "cell_type": "markdown",
   "metadata": {},
   "source": [
    "__*Write a program to convert Fahrenheit to kelvin and celsius both__"
   ]
  },
  {
   "cell_type": "code",
   "execution_count": 21,
   "metadata": {},
   "outputs": [
    {
     "name": "stdout",
     "output_type": "stream",
     "text": [
      "Temprature in celsius =  36.666666666666664 \n",
      "Tempratue in kelvin =  309.81666666666666\n"
     ]
    }
   ],
   "source": [
    "temp_faren = 98\n",
    "\n",
    "temp_cels = (temp_faren -32)*5/9\n",
    "\n",
    "temp_kelv = (temp_faren -32)*5/9 + 273.15\n",
    "\n",
    "print(\"Temprature in celsius = \",temp_cels, \"\\nTempratue in kelvin = \",temp_kelv)"
   ]
  },
  {
   "cell_type": "markdown",
   "metadata": {},
   "source": [
    "## Question 6:"
   ]
  },
  {
   "cell_type": "markdown",
   "metadata": {},
   "source": [
    "__*Write a program to demonstrate all the available data types in Python__"
   ]
  },
  {
   "cell_type": "code",
   "execution_count": 23,
   "metadata": {},
   "outputs": [
    {
     "name": "stdout",
     "output_type": "stream",
     "text": [
      "Type of str_type =  <class 'str'> \n",
      "Type of int_type =  <class 'int'> \n",
      "Type of float_type =  <class 'float'>\n",
      "Type of comp_type =  <class 'complex'> \n",
      "Type of list_type <class 'list'> \n",
      "Type of tuple_type =  <class 'tuple'>\n",
      "Type of set_type =  <class 'set'> \n",
      "Type of dict_type =  <class 'dict'> \n",
      "Type of bool_type =  <class 'bool'>\n"
     ]
    }
   ],
   "source": [
    "str_type = \"Hello World\"\n",
    "\n",
    "int_type = 290\n",
    "\n",
    "float_type = 17.5\n",
    "\n",
    "comp_type = 2+6j\n",
    "\n",
    "list_type = [12,34,56,78]\n",
    "\n",
    "tuple_type = (1,2,3,4)\n",
    "\n",
    "set_type = {1,3,4,5,6}\n",
    "\n",
    "dict_type = {\"First\":\"1\",\n",
    "            \"Second\":\"2\",\n",
    "            \"Third\":\"3\"}\n",
    "\n",
    "bool_type = True\n",
    "\n",
    "print(\"Type of str_type = \",type(str_type),\"\\nType of int_type = \",type(int_type),\"\\nType of float_type = \",type(float_type))\n",
    "\n",
    "print(\"Type of comp_type = \",type(comp_type),\"\\nType of list_type\",type(list_type),\"\\nType of tuple_type = \",type(tuple_type))\n",
    "\n",
    "print(\"Type of set_type = \",type(set_type),\"\\nType of dict_type = \",type(dict_type),\"\\nType of bool_type = \",type(bool_type))\n"
   ]
  }
 ],
 "metadata": {
  "kernelspec": {
   "display_name": "Python 3",
   "language": "python",
   "name": "python3"
  },
  "language_info": {
   "codemirror_mode": {
    "name": "ipython",
    "version": 3
   },
   "file_extension": ".py",
   "mimetype": "text/x-python",
   "name": "python",
   "nbconvert_exporter": "python",
   "pygments_lexer": "ipython3",
   "version": "3.8.3"
  },
  "toc": {
   "base_numbering": 1,
   "nav_menu": {},
   "number_sections": true,
   "sideBar": true,
   "skip_h1_title": false,
   "title_cell": "Table of Contents",
   "title_sidebar": "Contents",
   "toc_cell": false,
   "toc_position": {},
   "toc_section_display": true,
   "toc_window_display": false
  }
 },
 "nbformat": 4,
 "nbformat_minor": 4
}
