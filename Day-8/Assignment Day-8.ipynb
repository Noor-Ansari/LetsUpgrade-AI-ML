{
 "cells": [
  {
   "cell_type": "markdown",
   "metadata": {},
   "source": [
    "# Assignment Day 8: "
   ]
  },
  {
   "cell_type": "markdown",
   "metadata": {},
   "source": [
    "## Question 1:"
   ]
  },
  {
   "cell_type": "markdown",
   "metadata": {},
   "source": [
    "__*Recreate “NB 21 map, filter, lambda.ipynb” to try different variations or perform different calculations from the ones that are in the NB__"
   ]
  },
  {
   "cell_type": "markdown",
   "metadata": {},
   "source": [
    "__(i) map() :-__\n",
    "\n",
    "__It is a built-in function in Python by using this function we can apply a function on the every element of an iterable.__"
   ]
  },
  {
   "cell_type": "code",
   "execution_count": 57,
   "metadata": {
    "scrolled": true
   },
   "outputs": [
    {
     "name": "stdout",
     "output_type": "stream",
     "text": [
      "Percentage 80.0 %\n",
      "Percentage 76.0 %\n",
      "Percentage 90.0 %\n",
      "Percentage 96.0 %\n",
      "Percentage 60.0 %\n",
      "[None, None, None, None, None]\n"
     ]
    }
   ],
   "source": [
    "# Lets create a list of marks \n",
    "\n",
    "lis1 = [400, 380, 450, 480, 300]\n",
    "\n",
    "# This function will find the percentage given marks out of 500\n",
    "def perc(a):\n",
    "    p = a*100/500\n",
    "    print(\"Percentage\",p,\"%\")\n",
    "\n",
    "# now we will use the map() function to find the percentage of 5 students\n",
    "\n",
    "result = map(perc,lis1)\n",
    "\n",
    "print(list(result))"
   ]
  },
  {
   "cell_type": "markdown",
   "metadata": {},
   "source": [
    "__(ii) lambda():-__\n",
    "\n",
    "__It is anonymous function which means it can be used anywhere without any name__\n",
    "\n",
    "__It is a small function but can do powerful operations__"
   ]
  },
  {
   "cell_type": "code",
   "execution_count": 61,
   "metadata": {},
   "outputs": [
    {
     "name": "stdout",
     "output_type": "stream",
     "text": [
      "20\n",
      "126\n"
     ]
    }
   ],
   "source": [
    "# use the lambda inside another function\n",
    "\n",
    "def func(x):\n",
    "    return lambda a:a*x\n",
    "\n",
    "# This will double the given value\n",
    "double = func(2)\n",
    "print(double(10))\n",
    "\n",
    "# This will triple the given value\n",
    "trip = func(3)\n",
    "print(trip(42))"
   ]
  },
  {
   "cell_type": "markdown",
   "metadata": {},
   "source": [
    "__filter() :-__\n",
    "\n",
    "__It is built in function that takes a function as argument and filter out the values that don't satisfy the condition__\n",
    "\n",
    "__Below we have a program that will filter out the odd numbers between 0 and 50__"
   ]
  },
  {
   "cell_type": "code",
   "execution_count": 33,
   "metadata": {},
   "outputs": [
    {
     "name": "stdout",
     "output_type": "stream",
     "text": [
      "[0, 2, 4, 6, 8, 10, 12, 14, 16, 18, 20, 22, 24, 26, 28, 30, 32, 34, 36, 38, 40, 42, 44, 46, 48, 50]\n"
     ]
    }
   ],
   "source": [
    "# This program will first create a list of 50 integers\n",
    "\n",
    "num = []\n",
    "for i in range(51):\n",
    "    num.append(i)\n",
    "    \n",
    "# Now the filter function will filter out the values which don't satisfy the lambda condition\n",
    "    \n",
    "filter_odd = filter(lambda x:x%2==0,num)\n",
    "\n",
    "print(list(filter_odd))"
   ]
  },
  {
   "cell_type": "markdown",
   "metadata": {},
   "source": [
    "__reduce():-__\n",
    "\n",
    "__It is a special function which works like cumsum and cumprod functions of numpy__\n",
    "\n",
    "__It usually folds the value of an iterable and give a single result__"
   ]
  },
  {
   "cell_type": "code",
   "execution_count": 74,
   "metadata": {},
   "outputs": [
    {
     "name": "stdout",
     "output_type": "stream",
     "text": [
      "Sum of 20 numbers :- 210\n",
      "Product of first 5 numbers 120\n"
     ]
    }
   ],
   "source": [
    "# first lets import the reduce()\n",
    "from functools import reduce\n",
    "ls = []\n",
    "for i in range(21):\n",
    "    ls.append(i)\n",
    " \n",
    "# now use the reduce function to find the sum of 0 to 20 valuesabs\n",
    "\n",
    "result = reduce(lambda x,y:x+y, ls)\n",
    "\n",
    "print(\"Sum of 20 numbers :-\",result)\n",
    "\n",
    "# Use reduce function to calculate the product of first 5 numbers\n",
    "l = [1,2,3,4,5]\n",
    "result2 = reduce(lambda x,y:x*y,l)\n",
    "print(\"Product of first 5 numbers\",result2)"
   ]
  },
  {
   "cell_type": "markdown",
   "metadata": {},
   "source": [
    "### Now it's time to do something creative by using all functions"
   ]
  },
  {
   "cell_type": "code",
   "execution_count": 39,
   "metadata": {},
   "outputs": [
    {
     "name": "stdout",
     "output_type": "stream",
     "text": [
      "Enter a number :-13\n",
      "The Table of 13 is :-\n",
      " [13, 26, 39, 52, 65, 78, 91, 104, 117, 130]\n"
     ]
    }
   ],
   "source": [
    "# This is a program which will give the full table of any number\n",
    "\n",
    "lis = [1,2,3,4,5,6,7,8,9,10]\n",
    "\n",
    "# this function will mutiply the a with the every value of x \n",
    "\n",
    "def table(a):\n",
    "    return lambda x:x*a\n",
    "\n",
    "# Here we have given the value of parameter a \n",
    "take = int(input(\"Enter a number :-\"))\n",
    "x = table(take)\n",
    "\n",
    "# this function will map the function with every value of lis sequence\n",
    "\n",
    "result1 = map(x,lis)\n",
    "\n",
    "# At last print all the values\n",
    "\n",
    "print(\"The Table of\", take, \"is :-\\n\",list(result1))\n"
   ]
  },
  {
   "cell_type": "markdown",
   "metadata": {},
   "source": [
    "## Question 2:"
   ]
  },
  {
   "cell_type": "markdown",
   "metadata": {},
   "source": [
    "__*Recreate your own Python NB for “Classes and Objects” from the pdf provided namely “Classes&Objects.pdf”__"
   ]
  },
  {
   "cell_type": "markdown",
   "metadata": {},
   "source": [
    "# Class & object\n",
    "\n",
    "__A class is basically a template or blue print to create instances, here instances mean objects.\n",
    "Class also gives the facility such as abstraction, encapsulation, polymorphism etc.\n",
    "Encapsulation means binding the data members and methods into a single unit called class.__\n",
    "\n",
    "__A class is defined by the keyword class__"
   ]
  },
  {
   "cell_type": "code",
   "execution_count": 2,
   "metadata": {},
   "outputs": [
    {
     "name": "stdout",
     "output_type": "stream",
     "text": [
      "You have succesfully created your first class and object\n"
     ]
    }
   ],
   "source": [
    "class xyz():\n",
    "    def show(self):\n",
    "        print(\"You have succesfully created your first class and object\")\n",
    "        \n",
    "obj1 = xyz()\n",
    "\n",
    "obj1.show()"
   ]
  },
  {
   "cell_type": "markdown",
   "metadata": {},
   "source": [
    "__As you can observe from the above code that we can access any class function from its instance but for doing so we need to access it using the dot(.) operator,\n",
    "And the important thing to notice here is we have to pass a self parameter while defining a function in the class which usually refers to current instance(object) of the class.__\n"
   ]
  },
  {
   "cell_type": "markdown",
   "metadata": {},
   "source": [
    "__In object oriented programming there is concept of class variable and instance variable__\n",
    "\n",
    "\n",
    "__Instance variable means a variable specific to any particular object of the class, which is not defined inside the class definition defined and can not be accessed by any other object of the class__"
   ]
  },
  {
   "cell_type": "code",
   "execution_count": 7,
   "metadata": {},
   "outputs": [
    {
     "name": "stdout",
     "output_type": "stream",
     "text": [
      "500000\n",
      "160\n",
      "6000000\n",
      "Blue\n"
     ]
    }
   ],
   "source": [
    "# Lets create a class named Car \n",
    "\n",
    "class Car():\n",
    "    pass\n",
    "\n",
    "# now lets create some objects of this class Car\n",
    "\n",
    "tata = Car()\n",
    "honda = Car()\n",
    "\n",
    "# Now define some instance variables\n",
    "\n",
    "tata.price = 500000\n",
    "tata.color = \"Red\"\n",
    "tata.speed = 160\n",
    "\n",
    "honda.price = 6000000\n",
    "honda.color = \"Blue\"\n",
    "\n",
    "# Now print the variable values\n",
    "print(tata.price)\n",
    "print(tata.speed)\n",
    "\n",
    "print(honda.price)\n",
    "print(honda.color)\n",
    "\n",
    "# if we try to access the variable of tata then it will through an error because it is not class variable \n",
    "# so we cannot access it from any other object\n",
    "# print(honda.speed) don't execute this line it will through an error\n",
    "\n"
   ]
  },
  {
   "cell_type": "markdown",
   "metadata": {},
   "source": [
    "__As you observed from above code instance variable is something specific to any particular object__\n",
    "\n",
    "__But if you wanna define 100 objects then you have to define 100 times its instance variables, really?__\n",
    "\n",
    "__The answer is \"NO\" if we have to define the instance variables each time then what is the use of class? Why we are creating it?\n",
    "Now lets dive into a new concept (the actual resson why classes are used).__ \n",
    "__Class variables, these are variables which are defined inside the class definition and each instance of this class will have access to these variables__\n",
    "\n",
    "\n",
    "__Here is a question if every instance of the class will be copied these vaiables then what value will be assigned to the variables.__\n",
    "\n",
    "__Now lets talk about init() function,  it is used to initialize the values of variables at the time of object creation. So it means every new instance will have a specific value that is specified while creating the instance.__\n"
   ]
  },
  {
   "cell_type": "code",
   "execution_count": 9,
   "metadata": {},
   "outputs": [
    {
     "name": "stdout",
     "output_type": "stream",
     "text": [
      "Red\n",
      "500000\n",
      "160\n",
      "Blue\n",
      "600000\n",
      "150\n"
     ]
    }
   ],
   "source": [
    "# lets again create class Car but this time with class variables\n",
    "\n",
    "class Car():\n",
    "    def __init__(self,price,color,speed):\n",
    "        self.price = price\n",
    "        self.color = color\n",
    "        self.speed = speed\n",
    "        \n",
    "# lets create some objects of this class\n",
    "\n",
    "honda = Car(500000,\"Red\",160)\n",
    "\n",
    "tata = Car(600000, \"Blue\",150)\n",
    "\n",
    "# now access the variables of the class\n",
    "\n",
    "print(honda.color)\n",
    "print(honda.price)\n",
    "print(honda.speed)\n",
    "\n",
    "print(tata.color)\n",
    "print(tata.price)\n",
    "print(tata.speed)"
   ]
  },
  {
   "cell_type": "markdown",
   "metadata": {},
   "source": [
    "__We can also define the methods inside a class and can manipulate some computation specific to each object__"
   ]
  },
  {
   "cell_type": "code",
   "execution_count": 17,
   "metadata": {
    "scrolled": true
   },
   "outputs": [
    {
     "name": "stdout",
     "output_type": "stream",
     "text": [
      "Name :- Rahul \n",
      "Roll no :- 11001 \n",
      "Percentage :- 90.0\n",
      "Name :- Karan \n",
      "Roll no :- 11002 \n",
      "Percentage :- 77.8\n",
      "Name :- Sakshi \n",
      "Roll no :- 11003 \n",
      "Percentage :- 84.6\n"
     ]
    }
   ],
   "source": [
    "# Lets create a class called Result \n",
    "\n",
    "class Result():\n",
    "    def __init__(self,name,roll_no,total_marks):\n",
    "        self.name = name\n",
    "        self.roll_no = roll_no\n",
    "        self.total_marks = total_marks\n",
    "        \n",
    "# This function will show the details of student along with percentage        \n",
    "    \n",
    "    def show(self):\n",
    "        self.total = self.total_marks*100/500\n",
    "        self.name = self.name\n",
    "        self.roll = self.roll_no\n",
    "        print(\"Name :-\",self.name,\"\\nRoll no :-\",self.roll,\"\\nPercentage :-\",self.total)\n",
    "    \n",
    "    \n",
    "    \n",
    "first_student = Result(\"Rahul\",11001,450)\n",
    "\n",
    "second_student = Result(\"Karan\",11002,389)\n",
    "\n",
    "third_student = Result(\"Sakshi\",11003,423)\n",
    "\n",
    "\n",
    "first_student.show()\n",
    "\n",
    "second_student.show()\n",
    "\n",
    "third_student.show()"
   ]
  }
 ],
 "metadata": {
  "kernelspec": {
   "display_name": "Python 3",
   "language": "python",
   "name": "python3"
  },
  "language_info": {
   "codemirror_mode": {
    "name": "ipython",
    "version": 3
   },
   "file_extension": ".py",
   "mimetype": "text/x-python",
   "name": "python",
   "nbconvert_exporter": "python",
   "pygments_lexer": "ipython3",
   "version": "3.8.3"
  },
  "toc": {
   "base_numbering": 1,
   "nav_menu": {},
   "number_sections": true,
   "sideBar": true,
   "skip_h1_title": false,
   "title_cell": "Table of Contents",
   "title_sidebar": "Contents",
   "toc_cell": false,
   "toc_position": {
    "height": "673.333px",
    "left": "72px",
    "top": "139.052px",
    "width": "303.542px"
   },
   "toc_section_display": true,
   "toc_window_display": true
  }
 },
 "nbformat": 4,
 "nbformat_minor": 4
}
