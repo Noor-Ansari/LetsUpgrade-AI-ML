{
 "cells": [
  {
   "cell_type": "markdown",
   "metadata": {},
   "source": [
    "# Assignment Day-6"
   ]
  },
  {
   "cell_type": "markdown",
   "metadata": {},
   "source": [
    "## Question 1:"
   ]
  },
  {
   "cell_type": "markdown",
   "metadata": {},
   "source": [
    "__*Assuming that we have some email addresses in the \"username@companyname.com\" format, please\n",
    "write a program to print the company name of a given email address. Both user names and company\n",
    "names are composed of letters only.__"
   ]
  },
  {
   "cell_type": "code",
   "execution_count": 158,
   "metadata": {},
   "outputs": [
    {
     "name": "stdout",
     "output_type": "stream",
     "text": [
      "Input :-\n",
      " johncoder@yahoo.com\n",
      "\n",
      "Output :-\n",
      " yahoo\n"
     ]
    }
   ],
   "source": [
    "# lets take a random email address\n",
    "email = \"johncoder@yahoo.com\"\n",
    "\n",
    "\n",
    "# we will slice the email one more index from '@' symbol till '.' and we will find the indexes of these symbols by using find() function \n",
    "\n",
    "comapany_name = email[int(email.find(\"@\"))+1:email.find(\".\")]\n",
    "\n",
    "\n",
    "print(\"Input :-\\n\",email)\n",
    "\n",
    "print(\"\\nOutput :-\\n\",comapany_name)"
   ]
  },
  {
   "cell_type": "markdown",
   "metadata": {},
   "source": [
    "## Question 2:"
   ]
  },
  {
   "cell_type": "markdown",
   "metadata": {},
   "source": [
    "__*Write a program that accepts a comma-separated sequence of words as input and prints the words in a\n",
    "comma-separated sequence after sorting them alphabetically.__"
   ]
  },
  {
   "cell_type": "code",
   "execution_count": 58,
   "metadata": {},
   "outputs": [
    {
     "name": "stdout",
     "output_type": "stream",
     "text": [
      "Input :-\n",
      "Banana,Pineapple,Apple,Musk Melon,strawberry,\n",
      "Output :-\n",
      "Apple,Banana,Musk Melon,Pineapple,strawberry,"
     ]
    }
   ],
   "source": [
    "# lets create a list of words\n",
    "\n",
    "li_st = [\"Banana\",\"Pineapple\",\"Apple\", \"Musk Melon\", \"strawberry\"]\n",
    "\n",
    "\n",
    "# We will use the built-in sorted() function to sort the values alphabatically\n",
    "\n",
    "sorted_list = sorted(li_st)\n",
    "\n",
    "# these are the additional statements to show the result in a better from\n",
    "print(\"Input :-\")\n",
    "for i in li_st:\n",
    "    print(i, end=\",\")\n",
    "    \n",
    "\n",
    "print(\"\\nOutput :-\")\n",
    "for i in sorted_list:\n",
    "    print(i, end=\",\")\n",
    "    "
   ]
  },
  {
   "cell_type": "markdown",
   "metadata": {},
   "source": [
    "## Quesion 3:"
   ]
  },
  {
   "cell_type": "markdown",
   "metadata": {},
   "source": [
    "__*Create your own Jupyter Notebook for Sets.__"
   ]
  },
  {
   "cell_type": "markdown",
   "metadata": {},
   "source": [
    "__Sets are sequence type to store more than one values of any data type. But they only store unique values which means if you convert any other sequence type that consist of any duplicate value, the new sequence will not contain the duplicate value. Sets are defined by using set() or by just enclosing values by curly braces {}. sets are very useful in performing mathematical operations such as union, difference, intersection etc__"
   ]
  },
  {
   "cell_type": "code",
   "execution_count": 149,
   "metadata": {},
   "outputs": [
    {
     "name": "stdout",
     "output_type": "stream",
     "text": [
      "{1, 2, 4, 6, 8}\n",
      "{'Strawberry', 'Pineapple', 'Banana', 'Apple'}\n",
      "{100, 'Apple', 6.5, (3+6j), 56}\n"
     ]
    }
   ],
   "source": [
    "# it is set containing integer values \n",
    "\n",
    "a = {1,2,4,6,8,8}\n",
    "print(a)\n",
    "\n",
    "# it is a set contaning alphabetic values\n",
    "\n",
    "b = {\"Banana\",\"Apple\",\"Pineapple\", \"Strawberry\"}\n",
    "print(b)\n",
    "\n",
    "# it is a set contaning mix data types\n",
    "\n",
    "mix = {\"Apple\",100,56,6.5,3+6j}\n",
    "print(mix)"
   ]
  },
  {
   "cell_type": "markdown",
   "metadata": {},
   "source": [
    "__Observe the above output, it indicates that set only accepts unique values and the downside of sets is that sets are unordered and unindexed. which means that unlike list we can access any specific element of the set and also we can cannot slice the sets to retrieve the desired values of the sets. Because sets are unordered so that we can not be sure about the order of the output and cannot perform operations which are based on order__"
   ]
  },
  {
   "cell_type": "code",
   "execution_count": 96,
   "metadata": {},
   "outputs": [],
   "source": [
    "# This code will throw error because we are trying to access a value through indexing\n",
    "\n",
    "c = {10,56,54,23,87,23,43,12}\n",
    "\n",
    "#print(c[2]) don't execute this line it will throw an error\n",
    "\n",
    "\n",
    "# In the same way if we try to slice the set the error will be thrown\n",
    "\n",
    "#print(c[2:7]) don't execute this line it will throw an error"
   ]
  },
  {
   "cell_type": "markdown",
   "metadata": {},
   "source": [
    "__If you want to print all the elements of a set you can use 'for loop' to do so. To check if any item is available in the set use in or not in operator__"
   ]
  },
  {
   "cell_type": "code",
   "execution_count": 129,
   "metadata": {},
   "outputs": [
    {
     "name": "stdout",
     "output_type": "stream",
     "text": [
      "34\n",
      "12\n",
      "78\n",
      "23\n",
      "87\n",
      "56\n",
      "89\n",
      "Yes 34 is available in the set\n"
     ]
    }
   ],
   "source": [
    "d = {12,34,56,78,87,89,23}\n",
    "\n",
    "for i in d:\n",
    "    print(i)\n",
    "    \n",
    "if 34 in d:\n",
    "    print(\"Yes 34 is available in the set\")"
   ]
  },
  {
   "cell_type": "markdown",
   "metadata": {},
   "source": [
    "__Use 'add' or 'update' method to add new values in the set, 'clear' to clear all the values and 'remove' to or 'discard' method remove any specific value__"
   ]
  },
  {
   "cell_type": "code",
   "execution_count": 148,
   "metadata": {},
   "outputs": [
    {
     "name": "stdout",
     "output_type": "stream",
     "text": [
      "{'Apple', 'Pineapple', 'Orange', 'Banana', 'Strawberry'}\n",
      "{'Grapes', 'Apple', 'Pineapple', 'Orange', 'Plum', 'Water melon', 'Banana', 'Strawberry'}\n",
      "set()\n",
      "{'Water melon', 'Grapes'}\n",
      "{'Water melon'}\n"
     ]
    }
   ],
   "source": [
    "set_1 = {\"Banana\",\"Apple\",\"Orange\",\"Pineapple\"}\n",
    "\n",
    "# to add only one value we will use 'add' function\n",
    "set_1.add(\"Strawberry\")\n",
    "print(set_1)\n",
    "\n",
    "# to add more than value together use 'update' function\n",
    "new_set = {\"Water melon\",\"Plum\",\"Grapes\"}\n",
    "set_1.update(new_set)\n",
    "print(set_1)\n",
    "\n",
    "# to clear all the values from a set use clear function  \n",
    "set_1.clear()\n",
    "print(set_1)\n",
    "\n",
    "\n",
    "# to remove a specific value use 'remove' or 'discard'\n",
    "new_set.remove(\"Plum\")\n",
    "print(new_set)\n",
    "\n",
    "new_set.discard(\"Grapes\")\n",
    "print(new_set)"
   ]
  },
  {
   "cell_type": "markdown",
   "metadata": {},
   "source": [
    "__One of the main advantages of using sets is the facility to perform mathematical operations__"
   ]
  },
  {
   "cell_type": "code",
   "execution_count": 153,
   "metadata": {},
   "outputs": [
    {
     "name": "stdout",
     "output_type": "stream",
     "text": [
      "{50, 20, 70, 87, 40, 10, 60, 45}\n",
      "{40, 10}\n",
      "{20, 87, 45}\n"
     ]
    }
   ],
   "source": [
    "set1 = {10,20,45,87,40}\n",
    "set2 = (40,50,60,70,10)\n",
    "\n",
    "union_set = set1.union(set2)\n",
    "print(union_set)\n",
    "\n",
    "inter_set = set1.intersection(set2)\n",
    "print(inter_set)\n",
    "\n",
    "diff_set = set1.difference(set2)\n",
    "print(diff_set)\n"
   ]
  },
  {
   "cell_type": "markdown",
   "metadata": {},
   "source": [
    "__We can also create sets from any other type by using set() function__"
   ]
  },
  {
   "cell_type": "code",
   "execution_count": 156,
   "metadata": {},
   "outputs": [
    {
     "name": "stdout",
     "output_type": "stream",
     "text": [
      "{1, 2, 3, 4}\n",
      "<class 'set'>\n",
      "{10, 'Noor', 45, 30}\n",
      "<class 'set'>\n"
     ]
    }
   ],
   "source": [
    "tupl1= (1,2,3,4)\n",
    "\n",
    "list1 = [10,30,45,\"Noor\"]\n",
    "\n",
    "tupl_to_set = set(tupl1)\n",
    "print(tupl_to_set)\n",
    "print(type(tupl_to_set))\n",
    "\n",
    "\n",
    "list_to_set = set(list1)\n",
    "print(list_to_set)\n",
    "print(type(list_to_set))"
   ]
  },
  {
   "cell_type": "markdown",
   "metadata": {},
   "source": [
    "## Question 4:"
   ]
  },
  {
   "cell_type": "markdown",
   "metadata": {},
   "source": [
    "__*Given a list of n-1 numbers ranging from 1 to n, your task is to find the missing number. There are no\n",
    "duplicates.__"
   ]
  },
  {
   "cell_type": "code",
   "execution_count": 35,
   "metadata": {},
   "outputs": [
    {
     "name": "stdout",
     "output_type": "stream",
     "text": [
      "Input :-\n",
      "1 4 6 5 2 9 3 7 \n",
      "Output :-\n",
      "8\n"
     ]
    }
   ],
   "source": [
    "# lets create a list of numbers\n",
    "\n",
    "num_list = [1,4,6,5,2,9,3,7]\n",
    "\n",
    "\n",
    "# These are additional statements to show result in a better form\n",
    "print(\"Input :-\")\n",
    "for i in num_list:\n",
    "    print(i, end=\" \")\n",
    "    \n",
    "\n",
    "# To find the missing value we will loop through a range of numbers from 1 to the hightest number in the list \n",
    "# and then use the 'not in' operator to check which number is missing\n",
    "\n",
    "print(\"\\nOutput :-\")\n",
    "for i in range(1,max(num_list)):\n",
    "    if i not in num_list:\n",
    "        print(i)"
   ]
  },
  {
   "cell_type": "markdown",
   "metadata": {},
   "source": [
    "## Question 5:"
   ]
  },
  {
   "cell_type": "markdown",
   "metadata": {},
   "source": [
    "__*With a given list L, write a program to print this list L after removing all duplicate values with original order\n",
    "reserved.__"
   ]
  },
  {
   "cell_type": "code",
   "execution_count": 56,
   "metadata": {},
   "outputs": [
    {
     "name": "stdout",
     "output_type": "stream",
     "text": [
      "Input :-\n",
      "1 5 7 5 8 7 9 8 5 1 \n",
      "Output :-\n",
      "1 5 7 8 9 "
     ]
    }
   ],
   "source": [
    "# lets take a list which consist of duplicate values\n",
    "L = [1,5,7,5,8,7,9,8,5,1]\n",
    "\n",
    "# Then we will convert the list into set which will automatically remove the duplicate values because set take unique values\n",
    "temp = set(L)\n",
    "\n",
    "# We again convert set into list \n",
    "new_list = list(new_list)\n",
    "\n",
    "# These are unique additional statements to show the result into a better form \n",
    "print(\"Input :-\")\n",
    "for i in L:\n",
    "    print(i, end=\" \")\n",
    "\n",
    "\n",
    "print(\"\\nOutput :-\")   \n",
    "for i in new_list:\n",
    "    print(i, end=\" \")\n",
    "\n"
   ]
  }
 ],
 "metadata": {
  "kernelspec": {
   "display_name": "Python 3",
   "language": "python",
   "name": "python3"
  },
  "language_info": {
   "codemirror_mode": {
    "name": "ipython",
    "version": 3
   },
   "file_extension": ".py",
   "mimetype": "text/x-python",
   "name": "python",
   "nbconvert_exporter": "python",
   "pygments_lexer": "ipython3",
   "version": "3.8.3"
  },
  "toc": {
   "base_numbering": 1,
   "nav_menu": {},
   "number_sections": true,
   "sideBar": true,
   "skip_h1_title": false,
   "title_cell": "Table of Contents",
   "title_sidebar": "Contents",
   "toc_cell": false,
   "toc_position": {},
   "toc_section_display": true,
   "toc_window_display": false
  }
 },
 "nbformat": 4,
 "nbformat_minor": 4
}
