{
 "cells": [
  {
   "cell_type": "markdown",
   "metadata": {},
   "source": [
    "# Assignment Day-7"
   ]
  },
  {
   "cell_type": "markdown",
   "metadata": {},
   "source": [
    "## Question 1:"
   ]
  },
  {
   "cell_type": "markdown",
   "metadata": {},
   "source": [
    "__*Write a program to copy the contents of one file to another using a for loop. (Don’t use built-in copy\n",
    "function)__"
   ]
  },
  {
   "cell_type": "code",
   "execution_count": 6,
   "metadata": {
    "scrolled": false
   },
   "outputs": [],
   "source": [
    "# Lets create a file and store some contens in it\n",
    "\n",
    "f1 = open(\"file1.txt\",\"w\")\n",
    "f1.write(\"Hello this is the content of first file, Which will be copied to another file\")\n",
    "f1.close()\n",
    "\n",
    "\n",
    "# Now again open the file1 in read mode and loop through to read the content then store the content in the \"x\"\n",
    "\n",
    "content = open(\"file1.txt\",\"r\")\n",
    "for i in content:\n",
    "    x = i\n",
    "\n",
    "\n",
    "# Now lets create another file and copy the content of first file which are available in the \"x\" into the second file\n",
    "\n",
    "f2 = open(\"file2.txt\",\"w\")\n",
    "f2.write(x)\n",
    "f2.close()\n",
    "\n"
   ]
  },
  {
   "cell_type": "markdown",
   "metadata": {},
   "source": [
    "## Question 2:"
   ]
  },
  {
   "cell_type": "markdown",
   "metadata": {},
   "source": [
    "__*Write a Python program to find maximum and minimum values in the dictionary. Do not use built-in min\n",
    "and max functions.__"
   ]
  },
  {
   "cell_type": "code",
   "execution_count": 3,
   "metadata": {
    "scrolled": false
   },
   "outputs": [
    {
     "name": "stdout",
     "output_type": "stream",
     "text": [
      "Minimum value of the dictionary :- 10\n",
      "Maximum value of the dictionary :- 8000\n",
      "Maximum value :- 8000\n",
      "Minimum value :- 10\n"
     ]
    }
   ],
   "source": [
    "# Lets create a dictionary with random items\n",
    "\n",
    "dict1 = {1:200, 2:300, 9:10, 4:100, 6:8000, 5:400}\n",
    "\n",
    "# Now lets inilialize a list in which store the values of dictionary using for loop\n",
    "k = []\n",
    "for i in dict1:\n",
    "    k.append(dict1[i])\n",
    "\n",
    "# Use sorted function to sort the list \"k\" \n",
    "# which will be in order where least value will be at the first index and highest value at the last \n",
    "k = sorted(k)\n",
    "\n",
    "# now print the minimum and maximum value \n",
    "\n",
    "print(\"Minimum value of the dictionary :-\",k[0])\n",
    "print(\"Maximum value of the dictionary :-\",k[len(k)-1])\n",
    "\n",
    "################################## Second Method to find the MIN/MAX value of the dictionary####################################\n",
    "\n",
    "dict2 = {1:200, 2:300, 9:10, 4:100, 6:8000, 5:400}\n",
    "\n",
    "# use the sorted function to sort the dictionary\n",
    "\n",
    "sorted_dict = sorted(dict2.values())\n",
    "\n",
    "\n",
    "# Because the dict has been sorted so the first index would be least and last index highest value\n",
    "\n",
    "print(\"Maximum value :-\",sorted_dict[len(sorted_dict)-1])\n",
    "print(\"Minimum value :-\",sorted_dict[0])\n",
    "\n",
    "\n"
   ]
  }
 ],
 "metadata": {
  "kernelspec": {
   "display_name": "Python 3",
   "language": "python",
   "name": "python3"
  },
  "language_info": {
   "codemirror_mode": {
    "name": "ipython",
    "version": 3
   },
   "file_extension": ".py",
   "mimetype": "text/x-python",
   "name": "python",
   "nbconvert_exporter": "python",
   "pygments_lexer": "ipython3",
   "version": "3.8.3"
  },
  "toc": {
   "base_numbering": 1,
   "nav_menu": {},
   "number_sections": true,
   "sideBar": true,
   "skip_h1_title": false,
   "title_cell": "Table of Contents",
   "title_sidebar": "Contents",
   "toc_cell": false,
   "toc_position": {},
   "toc_section_display": true,
   "toc_window_display": false
  }
 },
 "nbformat": 4,
 "nbformat_minor": 4
}
