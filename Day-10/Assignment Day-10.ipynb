{
 "cells": [
  {
   "cell_type": "markdown",
   "metadata": {},
   "source": [
    "# Assignment Day 10:"
   ]
  },
  {
   "cell_type": "markdown",
   "metadata": {},
   "source": [
    "## Question 1:"
   ]
  },
  {
   "cell_type": "markdown",
   "metadata": {},
   "source": [
    "__*Create an element-wise comparison (greater, greater_equal, less and less_equal) of two given arrays__ "
   ]
  },
  {
   "cell_type": "code",
   "execution_count": 1,
   "metadata": {},
   "outputs": [
    {
     "name": "stdout",
     "output_type": "stream",
     "text": [
      "Greator than :- [False False  True  True  True]\n",
      "Great than equal to :- [False False  True  True  True]\n",
      "Less than :- [ True  True False False False]\n",
      "Less than equal to :- [ True  True False False False]\n"
     ]
    }
   ],
   "source": [
    "import numpy as np\n",
    "\n",
    "# Create two ndarrays which will be used to compare \n",
    "arr1 = np.array([10,23,54,89,45])\n",
    "arr2 = np.array([12,34,32,77,22])\n",
    "\n",
    "# Use .greater() method to perform greator than operation between two arrays\n",
    "grt = np.greater(arr1,arr2)\n",
    "print(\"Greator than :-\",grt)\n",
    "\n",
    "# Use .greater_equal() method to perform greator than and equal operation between two arrays\n",
    "grt_eql = np.greater_equal(arr1,arr2)\n",
    "print(\"Great than equal to :-\",grt_eql)\n",
    "\n",
    "# Use .less() method to perform less than operation between two arrays\n",
    "less = np.less(arr1,arr2)\n",
    "print(\"Less than :-\",less)\n",
    "\n",
    "# Use .less_equal() method to perform less than and equal operation between two arrays\n",
    "less_eql = np.less_equal(arr1,arr2)\n",
    "print(\"Less than equal to :-\",less_eql)"
   ]
  },
  {
   "cell_type": "markdown",
   "metadata": {},
   "source": [
    "## Question 2:"
   ]
  },
  {
   "cell_type": "markdown",
   "metadata": {},
   "source": [
    "__*Write a NumPy program to create an array of 10 zeros,10 ones, 10 fives__"
   ]
  },
  {
   "cell_type": "code",
   "execution_count": 2,
   "metadata": {
    "scrolled": true
   },
   "outputs": [
    {
     "name": "stdout",
     "output_type": "stream",
     "text": [
      "[0. 0. 0. 0. 0. 0. 0. 0. 0. 0.]\n",
      "[1. 1. 1. 1. 1. 1. 1. 1. 1. 1.]\n",
      "[5 5 5 5 5 5 5 5 5 5]\n"
     ]
    }
   ],
   "source": [
    "# create an array of 10 zeros\n",
    "arr_zero = np.zeros(10)\n",
    "print(arr_zero)\n",
    "\n",
    "# create an array of 10 ones\n",
    "arr_ones = np.ones(10)\n",
    "print(arr_ones)\n",
    "\n",
    "# create an array of 10 fives\n",
    "arr_fives = np.full(10,5)\n",
    "print(arr_fives)\n"
   ]
  },
  {
   "cell_type": "markdown",
   "metadata": {},
   "source": [
    "## Question 3:"
   ]
  },
  {
   "cell_type": "markdown",
   "metadata": {},
   "source": [
    "__*Write a NumPy program to compute sum of all elements, sum of each column and sum of each row of a given array__"
   ]
  },
  {
   "cell_type": "code",
   "execution_count": 3,
   "metadata": {},
   "outputs": [
    {
     "name": "stdout",
     "output_type": "stream",
     "text": [
      "Sum of all elements :- 144\n",
      "Column-wise :- [16 30 75 23]\n",
      "Row-wise:- [ 10  26 108]\n"
     ]
    }
   ],
   "source": [
    "# create an two-dimentional array\n",
    "\n",
    "arr_to_sum = np.array([[1,2,3,4],[5,6,7,8],[10,22,65,11]])\n",
    "\n",
    "# Sum of all elements\n",
    "result = np.sum(arr_to_sum)\n",
    "print(\"Sum of all elements :-\",result)\n",
    "\n",
    "# sum of the all elements column-wise\n",
    "result1= np.sum(arr_to_sum,axis=0)\n",
    "print(\"Column-wise :-\",result1)\n",
    "\n",
    "# sum of the all elements row-wise\n",
    "result2 = np.sum(arr_to_sum,axis=1)\n",
    "print(\"Row-wise:-\",result2)"
   ]
  },
  {
   "cell_type": "markdown",
   "metadata": {},
   "source": [
    "## Question 4:"
   ]
  },
  {
   "cell_type": "markdown",
   "metadata": {},
   "source": [
    "__*Write a NumPy program to add, subtract, multiply, divide arguments element-wise__"
   ]
  },
  {
   "cell_type": "code",
   "execution_count": 4,
   "metadata": {},
   "outputs": [
    {
     "name": "stdout",
     "output_type": "stream",
     "text": [
      "Addition :-\n",
      " [[10 15 14 25]\n",
      " [21 21 18 27]]\n",
      "Subtraction :-\n",
      " [[ 8 11  8 17]\n",
      " [11  9  4 11]]\n",
      "Multiplication :-\n",
      " [[  9  26  33  84]\n",
      " [ 80  90  77 152]]\n",
      "Division :-\n",
      " [[9.         6.5        3.66666667 5.25      ]\n",
      " [3.2        2.5        1.57142857 2.375     ]]\n"
     ]
    }
   ],
   "source": [
    "a1 = np.array([[1,2,3,4],[5,6,7,8]])\n",
    "a2 = np.array([[9,13,11,21],[16,15,11,19]])\n",
    "\n",
    "# add the corresponding elements of two arrays\n",
    "addition = np.add(a1,a2)\n",
    "print(\"Addition :-\\n\",addition)\n",
    "\n",
    "# subtract the corresponding elements of two arrays\n",
    "subtraction = np.subtract(a2,a1)\n",
    "print(\"Subtraction :-\\n\",subtraction)\n",
    "\n",
    "# multiply the corresponding elements of two arrays\n",
    "multiplication = np.multiply(a1,a2)\n",
    "print(\"Multiplication :-\\n\",multiplication)\n",
    "\n",
    "# divide corresponding elements of two arrays\n",
    "div = np.divide(a2,a1)\n",
    "print(\"Division :-\\n\",div)"
   ]
  },
  {
   "cell_type": "markdown",
   "metadata": {},
   "source": [
    "## Question 5:"
   ]
  },
  {
   "cell_type": "markdown",
   "metadata": {},
   "source": [
    "__*Write a NumPy program to compute the trigonometric sine, cosine and tangent array of angles given in degree__"
   ]
  },
  {
   "cell_type": "code",
   "execution_count": 5,
   "metadata": {
    "scrolled": true
   },
   "outputs": [
    {
     "name": "stdout",
     "output_type": "stream",
     "text": [
      "Sine :- [0.         0.5        0.70710678 0.8660254  1.        ]\n",
      "\n",
      "Cosine :- [1.00000000e+00 8.66025404e-01 7.07106781e-01 5.00000000e-01\n",
      " 6.12323400e-17]\n",
      "\n",
      "Tangent :- [0.00000000e+00 5.77350269e-01 1.00000000e+00 1.73205081e+00\n",
      " 1.63312394e+16]\n"
     ]
    }
   ],
   "source": [
    "# Lets create an array of angles of which we will find sine, cosine and tangent \n",
    "val_in_deg = np.array([0,30,45,60,90])\n",
    "\n",
    "# The above array values are in degrees but numpy's sine, cosine and tangent functions take values in radians\n",
    "\n",
    "# So we need to convert these degrees into radians. To do so we will use .deg2rad() function \n",
    "val_in_rad = np.deg2rad(val_in_deg)\n",
    "\n",
    "# Compute the values of sine at given angles\n",
    "sin_val = np.sin(val_in_rad)\n",
    "print(\"Sine :-\",sin_val)\n",
    "\n",
    "# Compute the values of cosine at given angles\n",
    "cos_val = np.cos(val_in_rad)\n",
    "print(\"\\nCosine :-\",cos_val)\n",
    "\n",
    "# Compute the values of tangent at given angles\n",
    "tan_val = np.tan(val_in_rad)\n",
    "print(\"\\nTangent :-\",tan_val)\n"
   ]
  },
  {
   "cell_type": "markdown",
   "metadata": {},
   "source": [
    "## Question 6:"
   ]
  },
  {
   "cell_type": "markdown",
   "metadata": {},
   "source": [
    "__*Write a Pandas program to create and display a DataFrame from a specified dictionary data which has the index labels__"
   ]
  },
  {
   "cell_type": "code",
   "execution_count": 6,
   "metadata": {
    "scrolled": true
   },
   "outputs": [
    {
     "data": {
      "text/html": [
       "<div>\n",
       "<style scoped>\n",
       "    .dataframe tbody tr th:only-of-type {\n",
       "        vertical-align: middle;\n",
       "    }\n",
       "\n",
       "    .dataframe tbody tr th {\n",
       "        vertical-align: top;\n",
       "    }\n",
       "\n",
       "    .dataframe thead th {\n",
       "        text-align: right;\n",
       "    }\n",
       "</style>\n",
       "<table border=\"1\" class=\"dataframe\">\n",
       "  <thead>\n",
       "    <tr style=\"text-align: right;\">\n",
       "      <th></th>\n",
       "      <th>Name</th>\n",
       "      <th>Age</th>\n",
       "      <th>Domain</th>\n",
       "      <th>Country</th>\n",
       "    </tr>\n",
       "  </thead>\n",
       "  <tbody>\n",
       "    <tr>\n",
       "      <th>0</th>\n",
       "      <td>Noor</td>\n",
       "      <td>18</td>\n",
       "      <td>AI engineer</td>\n",
       "      <td>India</td>\n",
       "    </tr>\n",
       "    <tr>\n",
       "      <th>1</th>\n",
       "      <td>Jocee Porter</td>\n",
       "      <td>25</td>\n",
       "      <td>Backend developer</td>\n",
       "      <td>Russia</td>\n",
       "    </tr>\n",
       "    <tr>\n",
       "      <th>2</th>\n",
       "      <td>Joeel56</td>\n",
       "      <td>23</td>\n",
       "      <td>Web developer</td>\n",
       "      <td>Germany</td>\n",
       "    </tr>\n",
       "    <tr>\n",
       "      <th>3</th>\n",
       "      <td>Kixcodes</td>\n",
       "      <td>24</td>\n",
       "      <td>AI engineer</td>\n",
       "      <td>Germany</td>\n",
       "    </tr>\n",
       "  </tbody>\n",
       "</table>\n",
       "</div>"
      ],
      "text/plain": [
       "           Name  Age             Domain  Country\n",
       "0          Noor   18        AI engineer    India\n",
       "1  Jocee Porter   25  Backend developer   Russia\n",
       "2       Joeel56   23      Web developer  Germany\n",
       "3      Kixcodes   24        AI engineer  Germany"
      ]
     },
     "execution_count": 6,
     "metadata": {},
     "output_type": "execute_result"
    }
   ],
   "source": [
    "import pandas as pd\n",
    "\n",
    "# Create a dictionary\n",
    "dictionary1 = {\"Name\":[\"Noor\", \"Jocee Porter\", \"Joeel56\", \"Kixcodes\"],\n",
    "             \"Age\":[18, 25, 23, 24],\n",
    "             \"Domain\":[\"AI engineer\", \"Backend developer\", \"Web developer\", \"AI engineer\"],\n",
    "             \"Country\":[\"India\", \"Russia\", \"Germany\", \"Germany\"]}\n",
    "\n",
    "# Now lets create a dataframe from the above dictionary\n",
    "\n",
    "df = pd.DataFrame(dictionary1)\n",
    "df"
   ]
  },
  {
   "cell_type": "markdown",
   "metadata": {},
   "source": [
    "## Question 7:"
   ]
  },
  {
   "cell_type": "markdown",
   "metadata": {},
   "source": [
    "__*Write a Pandas program to select the 'name' and 'score' columns from the following DataFrame__"
   ]
  },
  {
   "cell_type": "code",
   "execution_count": 7,
   "metadata": {},
   "outputs": [
    {
     "data": {
      "text/html": [
       "<div>\n",
       "<style scoped>\n",
       "    .dataframe tbody tr th:only-of-type {\n",
       "        vertical-align: middle;\n",
       "    }\n",
       "\n",
       "    .dataframe tbody tr th {\n",
       "        vertical-align: top;\n",
       "    }\n",
       "\n",
       "    .dataframe thead th {\n",
       "        text-align: right;\n",
       "    }\n",
       "</style>\n",
       "<table border=\"1\" class=\"dataframe\">\n",
       "  <thead>\n",
       "    <tr style=\"text-align: right;\">\n",
       "      <th></th>\n",
       "      <th>Name</th>\n",
       "      <th>Score</th>\n",
       "    </tr>\n",
       "  </thead>\n",
       "  <tbody>\n",
       "    <tr>\n",
       "      <th>0</th>\n",
       "      <td>Noor</td>\n",
       "      <td>455</td>\n",
       "    </tr>\n",
       "    <tr>\n",
       "      <th>1</th>\n",
       "      <td>Jocee Porter</td>\n",
       "      <td>488</td>\n",
       "    </tr>\n",
       "    <tr>\n",
       "      <th>2</th>\n",
       "      <td>Joeel56</td>\n",
       "      <td>390</td>\n",
       "    </tr>\n",
       "    <tr>\n",
       "      <th>3</th>\n",
       "      <td>Kixcodes</td>\n",
       "      <td>445</td>\n",
       "    </tr>\n",
       "  </tbody>\n",
       "</table>\n",
       "</div>"
      ],
      "text/plain": [
       "           Name  Score\n",
       "0          Noor    455\n",
       "1  Jocee Porter    488\n",
       "2       Joeel56    390\n",
       "3      Kixcodes    445"
      ]
     },
     "execution_count": 7,
     "metadata": {},
     "output_type": "execute_result"
    }
   ],
   "source": [
    "# Create a dataframe which contains \"Name\" and \"Score\" column-names\n",
    "\n",
    "df = pd.DataFrame({\"Name\":[\"Noor\", \"Jocee Porter\", \"Joeel56\", \"Kixcodes\"],\n",
    "                 \"Age\":[18,25,24,23],\n",
    "                 \"Country\":[\"India\", \"Russia\", \"Germany\", \"Germany\"],\n",
    "                 \"Score\":[455,488,390,445]})\n",
    "\n",
    "# To extract Name and Score columns we need to specify them between square brackets\n",
    "\n",
    "df[[\"Name\",\"Score\"]]"
   ]
  },
  {
   "cell_type": "markdown",
   "metadata": {},
   "source": [
    "## Question 8:"
   ]
  },
  {
   "cell_type": "markdown",
   "metadata": {},
   "source": [
    "__*Write a Pandas program to join the two given dataframes along rows and assign all data__"
   ]
  },
  {
   "cell_type": "code",
   "execution_count": 8,
   "metadata": {},
   "outputs": [
    {
     "data": {
      "text/html": [
       "<div>\n",
       "<style scoped>\n",
       "    .dataframe tbody tr th:only-of-type {\n",
       "        vertical-align: middle;\n",
       "    }\n",
       "\n",
       "    .dataframe tbody tr th {\n",
       "        vertical-align: top;\n",
       "    }\n",
       "\n",
       "    .dataframe thead th {\n",
       "        text-align: right;\n",
       "    }\n",
       "</style>\n",
       "<table border=\"1\" class=\"dataframe\">\n",
       "  <thead>\n",
       "    <tr style=\"text-align: right;\">\n",
       "      <th></th>\n",
       "      <th>Name</th>\n",
       "      <th>Age</th>\n",
       "      <th>Country</th>\n",
       "      <th>Score</th>\n",
       "    </tr>\n",
       "  </thead>\n",
       "  <tbody>\n",
       "    <tr>\n",
       "      <th>0</th>\n",
       "      <td>Noor</td>\n",
       "      <td>18</td>\n",
       "      <td>India</td>\n",
       "      <td>455</td>\n",
       "    </tr>\n",
       "    <tr>\n",
       "      <th>1</th>\n",
       "      <td>Jocee Porter</td>\n",
       "      <td>25</td>\n",
       "      <td>Russia</td>\n",
       "      <td>488</td>\n",
       "    </tr>\n",
       "    <tr>\n",
       "      <th>2</th>\n",
       "      <td>Joeel56</td>\n",
       "      <td>24</td>\n",
       "      <td>Germany</td>\n",
       "      <td>390</td>\n",
       "    </tr>\n",
       "    <tr>\n",
       "      <th>3</th>\n",
       "      <td>Martin</td>\n",
       "      <td>28</td>\n",
       "      <td>America</td>\n",
       "      <td>389</td>\n",
       "    </tr>\n",
       "    <tr>\n",
       "      <th>4</th>\n",
       "      <td>Kixcodes</td>\n",
       "      <td>25</td>\n",
       "      <td>Germany</td>\n",
       "      <td>421</td>\n",
       "    </tr>\n",
       "    <tr>\n",
       "      <th>5</th>\n",
       "      <td>Sallycodes</td>\n",
       "      <td>27</td>\n",
       "      <td>Australia</td>\n",
       "      <td>367</td>\n",
       "    </tr>\n",
       "  </tbody>\n",
       "</table>\n",
       "</div>"
      ],
      "text/plain": [
       "           Name  Age    Country  Score\n",
       "0          Noor   18      India    455\n",
       "1  Jocee Porter   25     Russia    488\n",
       "2       Joeel56   24    Germany    390\n",
       "3        Martin   28    America    389\n",
       "4      Kixcodes   25    Germany    421\n",
       "5    Sallycodes   27  Australia    367"
      ]
     },
     "execution_count": 8,
     "metadata": {},
     "output_type": "execute_result"
    }
   ],
   "source": [
    "df1 = pd.DataFrame({\"Name\":[\"Noor\", \"Jocee Porter\", \"Joeel56\"],\n",
    "                 \"Age\":[18,25,24],\n",
    "                 \"Country\":[\"India\", \"Russia\", \"Germany\"],\n",
    "                 \"Score\":[455,488,390]})\n",
    "\n",
    "df2 = pd.DataFrame({\"Name\":[\"Martin\",\"Kixcodes\",\"Sallycodes\"],\n",
    "                   \"Age\":[28,25,27],\n",
    "                    \"Country\":[\"America\", \"Germany\", \"Australia\"],\n",
    "                   \"Score\":[389,421,367]})\n",
    "\n",
    "res = df1.merge(df2,how=\"outer\")\n",
    "res"
   ]
  },
  {
   "cell_type": "markdown",
   "metadata": {},
   "source": [
    "## Question 9:"
   ]
  },
  {
   "cell_type": "markdown",
   "metadata": {},
   "source": [
    "__*Write a Pandas program to detect missing values of a given DataFrame. Display True or False__"
   ]
  },
  {
   "cell_type": "code",
   "execution_count": 9,
   "metadata": {},
   "outputs": [
    {
     "data": {
      "text/html": [
       "<div>\n",
       "<style scoped>\n",
       "    .dataframe tbody tr th:only-of-type {\n",
       "        vertical-align: middle;\n",
       "    }\n",
       "\n",
       "    .dataframe tbody tr th {\n",
       "        vertical-align: top;\n",
       "    }\n",
       "\n",
       "    .dataframe thead th {\n",
       "        text-align: right;\n",
       "    }\n",
       "</style>\n",
       "<table border=\"1\" class=\"dataframe\">\n",
       "  <thead>\n",
       "    <tr style=\"text-align: right;\">\n",
       "      <th></th>\n",
       "      <th>Name</th>\n",
       "      <th>Age</th>\n",
       "      <th>Domain</th>\n",
       "      <th>Country</th>\n",
       "    </tr>\n",
       "  </thead>\n",
       "  <tbody>\n",
       "    <tr>\n",
       "      <th>0</th>\n",
       "      <td>False</td>\n",
       "      <td>False</td>\n",
       "      <td>True</td>\n",
       "      <td>False</td>\n",
       "    </tr>\n",
       "    <tr>\n",
       "      <th>1</th>\n",
       "      <td>False</td>\n",
       "      <td>False</td>\n",
       "      <td>False</td>\n",
       "      <td>True</td>\n",
       "    </tr>\n",
       "    <tr>\n",
       "      <th>2</th>\n",
       "      <td>False</td>\n",
       "      <td>True</td>\n",
       "      <td>False</td>\n",
       "      <td>False</td>\n",
       "    </tr>\n",
       "    <tr>\n",
       "      <th>3</th>\n",
       "      <td>True</td>\n",
       "      <td>False</td>\n",
       "      <td>False</td>\n",
       "      <td>False</td>\n",
       "    </tr>\n",
       "  </tbody>\n",
       "</table>\n",
       "</div>"
      ],
      "text/plain": [
       "    Name    Age  Domain  Country\n",
       "0  False  False    True    False\n",
       "1  False  False   False     True\n",
       "2  False   True   False    False\n",
       "3   True  False   False    False"
      ]
     },
     "execution_count": 9,
     "metadata": {},
     "output_type": "execute_result"
    }
   ],
   "source": [
    "# Create a dataframe from  a dictionary which contains some missing values\n",
    "\n",
    "df = pd.DataFrame({\"Name\":[\"Noor\", \"Jocee Porter\", \"Joeel56\", np.nan],\n",
    "             \"Age\":[18, 25, np.nan, 24],\n",
    "             \"Domain\":[np.nan,\"Backend developer\", \"Web developer\", \"AI engineer\"],\n",
    "             \"Country\":[\"India\", np.nan, \"Germany\", \"Germany\"]})\n",
    "\n",
    "\n",
    "# We use the .isnull() to find null missing values it will print True/False\n",
    "df.isnull()\n"
   ]
  },
  {
   "cell_type": "markdown",
   "metadata": {},
   "source": [
    "## Question 10:"
   ]
  },
  {
   "cell_type": "markdown",
   "metadata": {},
   "source": [
    "__* Write a Pandas program to create and display a one-dimensional array-like object containing an array of data__"
   ]
  },
  {
   "cell_type": "code",
   "execution_count": 11,
   "metadata": {},
   "outputs": [
    {
     "name": "stdout",
     "output_type": "stream",
     "text": [
      "<class 'pandas.core.series.Series'>\n"
     ]
    },
    {
     "data": {
      "text/plain": [
       "0    130\n",
       "1    189\n",
       "2    234\n",
       "3    245\n",
       "4    123\n",
       "5    456\n",
       "6    765\n",
       "7    190\n",
       "8    123\n",
       "9    998\n",
       "dtype: int64"
      ]
     },
     "execution_count": 11,
     "metadata": {},
     "output_type": "execute_result"
    }
   ],
   "source": [
    "# In pandas a one-dimensional array like object is called Series\n",
    "\n",
    "arr = [130,189,234,245,123,456,765,190,123,998]\n",
    "\n",
    "# We will use .Series() to convert this array into a Series\n",
    "\n",
    "ser = pd.Series(arr)\n",
    "\n",
    "print(type(ser))\n",
    "ser"
   ]
  }
 ],
 "metadata": {
  "kernelspec": {
   "display_name": "Python 3",
   "language": "python",
   "name": "python3"
  },
  "language_info": {
   "codemirror_mode": {
    "name": "ipython",
    "version": 3
   },
   "file_extension": ".py",
   "mimetype": "text/x-python",
   "name": "python",
   "nbconvert_exporter": "python",
   "pygments_lexer": "ipython3",
   "version": "3.8.3"
  },
  "toc": {
   "base_numbering": 1,
   "nav_menu": {},
   "number_sections": true,
   "sideBar": true,
   "skip_h1_title": false,
   "title_cell": "Table of Contents",
   "title_sidebar": "Contents",
   "toc_cell": false,
   "toc_position": {},
   "toc_section_display": true,
   "toc_window_display": false
  }
 },
 "nbformat": 4,
 "nbformat_minor": 4
}
