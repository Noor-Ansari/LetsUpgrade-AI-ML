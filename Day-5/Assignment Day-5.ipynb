{
 "cells": [
  {
   "cell_type": "markdown",
   "metadata": {},
   "source": [
    "# Assignment Day-5"
   ]
  },
  {
   "cell_type": "markdown",
   "metadata": {},
   "source": [
    "## Question-1"
   ]
  },
  {
   "cell_type": "markdown",
   "metadata": {},
   "source": [
    "__* Write a Python program to find the first 20 non-even prime natural numbers__"
   ]
  },
  {
   "cell_type": "code",
   "execution_count": 19,
   "metadata": {
    "scrolled": true
   },
   "outputs": [
    {
     "name": "stdout",
     "output_type": "stream",
     "text": [
      " 3   5   7   11   13   17   19   23   29   31   37   41   43   47   53   59   61   67   71   73  "
     ]
    }
   ],
   "source": [
    "\n",
    "for n in range (3, 74):\n",
    "    count = 0\n",
    "    for i in range(2, (n//2 + 1)):\n",
    "        if(n % i == 0):\n",
    "            count = count + 1\n",
    "            break\n",
    "\n",
    "    if (count == 0 and n != 1):\n",
    "        print(\" %d\" %n, end = '  ') \n",
    "            \n",
    "    "
   ]
  },
  {
   "cell_type": "markdown",
   "metadata": {},
   "source": [
    "## Question-2"
   ]
  },
  {
   "cell_type": "markdown",
   "metadata": {},
   "source": [
    "__*Write a Python program to implement 15 functions of string__"
   ]
  },
  {
   "cell_type": "code",
   "execution_count": 39,
   "metadata": {
    "scrolled": true
   },
   "outputs": [
    {
     "name": "stdout",
     "output_type": "stream",
     "text": [
      "Upper function :-  LETSUPGRADE AI/ML\n",
      "Lower function :-  letsupgrade ai/ml\n",
      "title function :-  Letsupgrade Ai/Ml\n",
      "After using the replace function :- LetsUpgrade Batch 2\n",
      "find function :-  12\n",
      "count function :-  2\n",
      "lstrip function :-  oor Coder\n",
      "rstrip function :- Noor Cod\n",
      "split function :- ['Noor ', 'oder']\n",
      "swapcase function :- nOOR\n",
      "Partition function:- ('I am ', 'not', ' here!!')\n",
      "Startwith function :- True\n",
      "endswith function :- True\n",
      "isupper function :- True\n",
      "islower function :- True\n"
     ]
    }
   ],
   "source": [
    "# First consider a string on which 15 functions will be executed\n",
    "\n",
    "x = \"LetsUpgrade AI/ML\"\n",
    "\n",
    "# upper function is used to convert all characters in the uppercase\n",
    "f1 = x.upper()\n",
    "print(\"Upper function :- \",f1)\n",
    "\n",
    "\n",
    "# lower function is used to convert all characters in the lowercase\n",
    "f2 = x.lower()\n",
    "print(\"Lower function :- \",f2)\n",
    "\n",
    "\n",
    "# title function converts the first character of a word to capital\n",
    "f3 = x.title()\n",
    "print(\"title function :- \",f3)\n",
    "\n",
    "\n",
    "# replace function is used to replace characters with another in a string\n",
    "f4 = x.replace(\"AI/ML\", \"Batch 2\")\n",
    "print(\"After using the replace function :-\",f4)\n",
    "\n",
    "\n",
    "# find function returns the index number of the given character in the string\n",
    "f5 = x.find(\"A\")\n",
    "print(\"find function :- \",f5)\n",
    "\n",
    "\n",
    "# count function returns the number of times given character exist in the string\n",
    "f6 = x.count(\"e\")\n",
    "print(\"count function :- \",f6)\n",
    "\n",
    "\n",
    "# lstrip removes the given character from the left side of the string\n",
    "word = \"Noor Coder\"\n",
    "f7 = word.lstrip(\"N\")\n",
    "print(\"lstrip function :- \",f7)\n",
    "\n",
    "# rstrip removes the given characters from the right side of the string \n",
    "f8 = word.rstrip(\"er\")\n",
    "print(\"rstrip function :-\",f8)\n",
    "\n",
    "# split function splits the string in two or more strings where the given character occurs\n",
    "word = \"Noor Coder\"\n",
    "f9 = word.split(\"C\")\n",
    "print(\"split function :-\",f9)\n",
    "\n",
    "# swapcase function converts the upper letter to lower and vice versa\n",
    "str1 = \"Noor\"\n",
    "f10 = str1.swapcase()\n",
    "print(\"swapcase function :-\",f10)\n",
    "\n",
    "# Partition function searches the given characters and returns the tuple of three elements\n",
    "wr = \"I am not here!!\"\n",
    "f11 = wr.partition(\"not\")\n",
    "print(\"Partition function:-\",f11)\n",
    "\n",
    "# startwith function returns TRUE if string starts with the given characters \n",
    "wr1 = \"Noor Coder is Learning Artificial Intelligence\"\n",
    "f12 = wr1.startswith(\"Noor\")\n",
    "print(\"Startwith function :-\",f12)\n",
    "\n",
    "# endswith function returns TRUE if string ends with the given characters\n",
    "f13 = wr1.endswith(\"Intelligence\")\n",
    "print(\"endswith function :-\",f13)\n",
    "\n",
    "# isupper function returns TRUE if all characters of a string are upper\n",
    "wo_rd = \"NOOR MOHAMMAD\"\n",
    "f14 = wo_rd.isupper()\n",
    "print(\"isupper function :-\",f14)\n",
    "\n",
    "# islower function returns true if all characters of the string are lower\n",
    "a = \"noor coder\"\n",
    "f15 = a.islower()\n",
    "print(\"islower function :-\",f15)\n"
   ]
  },
  {
   "cell_type": "markdown",
   "metadata": {},
   "source": [
    "## Question-3"
   ]
  },
  {
   "cell_type": "markdown",
   "metadata": {},
   "source": [
    "__* Write a Python program to check if the given string is a Palindrome or Anagram or None of them. Display the message accordingly to the user__"
   ]
  },
  {
   "cell_type": "code",
   "execution_count": 13,
   "metadata": {},
   "outputs": [
    {
     "name": "stdout",
     "output_type": "stream",
     "text": [
      "Enter a string :-madaM\n",
      "This string is a pallindrome\n"
     ]
    }
   ],
   "source": [
    "# this function will take the user input and will make a reverse of it after the check whether it is pallindrome or not\n",
    "\n",
    "string = input(\"Enter a string :-\").upper()\n",
    "\n",
    "rev = string[::-1]\n",
    "\n",
    "if string==rev:\n",
    "    print(\"This string is a pallindrome\")\n",
    "else:\n",
    "    print(\"This string is not a pallindrome\")\n",
    "    \n"
   ]
  },
  {
   "cell_type": "code",
   "execution_count": 15,
   "metadata": {
    "scrolled": false
   },
   "outputs": [
    {
     "name": "stdout",
     "output_type": "stream",
     "text": [
      "Enter first word :-Noor\n",
      "Enter second word :-Noro\n",
      "They are anagram of each other\n"
     ]
    }
   ],
   "source": [
    "# This function will take the two string from user and then sort them using sorted function \n",
    "# to check whether they are anagram of each other \n",
    "\n",
    "first_word = input(\"Enter first word :-\").upper()\n",
    "\n",
    "second_word = input(\"Enter second word :-\").upper()\n",
    "\n",
    "if(sorted(first_word)==sorted(second_word)):\n",
    "   print(\"They are anagram of each other\")\n",
    "else:\n",
    "   print(\"They are not anagram of each other\")\n",
    "\n"
   ]
  },
  {
   "cell_type": "markdown",
   "metadata": {},
   "source": [
    "## Question-4"
   ]
  },
  {
   "cell_type": "markdown",
   "metadata": {},
   "source": [
    "__* Write a Python's user-defined function that removes all the additional characters from the string and convert it finally to lower case using built-in lower(). eg: If the string is \"Dr. Darshan Ingle @AIML Trainer\", then the output be \"drdarshaningleaimltrainer\"__"
   ]
  },
  {
   "cell_type": "code",
   "execution_count": 48,
   "metadata": {},
   "outputs": [
    {
     "name": "stdout",
     "output_type": "stream",
     "text": [
      "wearelearningaiandml\n"
     ]
    }
   ],
   "source": [
    "# consider a string \n",
    "\n",
    "str_ing = \"We are learning AI and ML\"\n",
    "\n",
    "# In this function the replace method will replace the spaces and the lower method will convert them to lowercase \n",
    "\n",
    "def removes_func(string):\n",
    "    res = string.replace(\" \",\"\").lower()\n",
    "    print(res)\n",
    "\n",
    "# Now call the function with a parameter\n",
    "\n",
    "removes_func(str_ing)\n"
   ]
  }
 ],
 "metadata": {
  "kernelspec": {
   "display_name": "Python 3",
   "language": "python",
   "name": "python3"
  },
  "language_info": {
   "codemirror_mode": {
    "name": "ipython",
    "version": 3
   },
   "file_extension": ".py",
   "mimetype": "text/x-python",
   "name": "python",
   "nbconvert_exporter": "python",
   "pygments_lexer": "ipython3",
   "version": "3.8.3"
  },
  "toc": {
   "base_numbering": 1,
   "nav_menu": {},
   "number_sections": true,
   "sideBar": true,
   "skip_h1_title": false,
   "title_cell": "Table of Contents",
   "title_sidebar": "Contents",
   "toc_cell": false,
   "toc_position": {},
   "toc_section_display": true,
   "toc_window_display": false
  }
 },
 "nbformat": 4,
 "nbformat_minor": 4
}
